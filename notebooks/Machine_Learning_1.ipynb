{
 "cells": [
  {
   "cell_type": "code",
   "execution_count": 2,
   "id": "1741d48e-1796-4049-8c85-8982a8572abb",
   "metadata": {},
   "outputs": [],
   "source": [
    "import numpy as np\n",
    "import pandas as pd\n",
    "from sklearn.model_selection import train_test_split\n",
    "from sklearn.linear_model import LogisticRegression\n",
    "from sklearn.preprocessing import StandardScaler"
   ]
  },
  {
   "cell_type": "code",
   "execution_count": null,
   "id": "3c087a29-59f6-4483-8640-893aa0cc3541",
   "metadata": {},
   "outputs": [],
   "source": [
    "df = pd.read_csv('weatherAUS.csv')\n",
    "df.head()"
   ]
  },
  {
   "cell_type": "code",
   "execution_count": 4,
   "id": "884282e8-f6f7-4b2d-82a8-2a99656bcb8d",
   "metadata": {},
   "outputs": [],
   "source": [
    "date = pd.to_datetime(df['Date'])\n",
    "df['Day'] = date.dt.day\n",
    "df['Month'] = date.dt.month\n",
    "df['Year'] = date.dt.year"
   ]
  },
  {
   "cell_type": "code",
   "execution_count": 6,
   "id": "1eb30e35-adec-4378-b24e-689736d3700e",
   "metadata": {},
   "outputs": [],
   "source": [
    "dict_lat = [36.07, 33.90, 31.48, 30.32, 29.49, 32.92, 33.28, 29.04, 33.72, 33.60, 33.86, 33.95, 35.16, 32.79, 34.37, 35.31, 35.42, 35.53, 37.51,36.74, 38.12, 37.67, 37.83, 34.24, 36.31, 38.31, 37.74, \n",
    "            37.92, 27.48, 16.87,27.94, 19.25, 34.95, 37.75, 34.48, 31.16, 35.03, 34.03, 31.67, 31.93, 31.92,32.99, 34.95, 42.89, 41.42, 23.80, 12.42, 14.52, 25.19] \n",
    "\n",
    "dict_long = [146.95, 150.73, 145.83, 153.12, 149.85, 151.80, 151.58,167.94, 150.68, 150.78, 151.20, 151.17, 147.46, 151.84, 150.93, 149.20, 149.09,148.77, 143.79, 144.33, 147.13, 144.83, \n",
    "             144.98, 142.09, 141.65, 141.47, 145.10,141.26, 153.04, 145.75, 153.43, 146.77, 138.52, 140.77, 139.01, 136.81, 117.88,115.06, 116.02, 115.98, 115.87, 121.62, 116.72, 147.33, 147.12, \n",
    "             133.89, 130.89,132.38, 130.97]\n",
    "\n",
    "dict_elev = [164, 81, 260, 4, 213, 33, 19, 112, 25, 19, 43, 6, 212, 8, 10, 577, 587, 1760, 435, 209, 5, 113, 8, 50, 139, 81, 66, 51, 8, 2, 3, 4, 2, 63, 275, 167, 3, 85, 40, 15, 25, 249, 73, 51, 5, 546, 30, 134, 492]\n",
    "\n",
    "\n",
    "df['Location_Latitude'] = pd.DataFrame(data = dict_lat)\n",
    "df['Location_Longitude'] = pd.DataFrame(data = dict_long)\n",
    "df['Location_Elevation'] = pd.DataFrame(data = dict_elev)"
   ]
  },
  {
   "cell_type": "code",
   "execution_count": 7,
   "id": "6dbbb9d3-0204-4469-bc6d-29f49a6de79e",
   "metadata": {},
   "outputs": [
    {
     "name": "stderr",
     "output_type": "stream",
     "text": [
      "C:\\Users\\Krbli\\AppData\\Local\\Temp\\ipykernel_14852\\3244452998.py:1: FutureWarning: The default value of numeric_only in DataFrame.mean is deprecated. In a future version, it will default to False. In addition, specifying 'numeric_only=None' is deprecated. Select only valid columns or specify the value of numeric_only to silence this warning.\n",
      "  df = df.fillna(df.mean())\n"
     ]
    }
   ],
   "source": [
    "df = df.fillna(df.mean())\n",
    "for i in df[[\"WindGustDir\",\"WindDir9am\",\"WindDir3pm\"]]:\n",
    "    df[i] = df[i].fillna(df[i].mode()[0])"
   ]
  },
  {
   "cell_type": "code",
   "execution_count": 8,
   "id": "9661263f-c75d-4c8a-92fd-8cf0256f4aab",
   "metadata": {},
   "outputs": [],
   "source": [
    "for i in df[[\"WindGustDir\",\"WindDir9am\",\"WindDir3pm\"]]:\n",
    "        df[i]=df[i].replace(['E','ENE','NE','NNE','N','NNW','NW','WNW','W','WSW','SW','SSW','S','SSE','SE','ESE'],\n",
    "                            [j*np.pi/8 for j in range(16)])\n",
    "        \n",
    "for i in df[[\"WindGustDir\",\"WindDir9am\",\"WindDir3pm\"]]:\n",
    "        df[str(i)+\"_cos\"] = np.round(np.cos(df[i]),2)\n",
    "        df[str(i)+\"_sin\"] = np.round(np.sin(df[i]),2)\n",
    "        \n",
    "df['RainToday']=df.RainToday.replace([\"Yes\",\"No\"],[1,0])\n",
    "df['RainTomorrow']=df.RainTomorrow.replace([\"Yes\",\"No\"],[1,0])"
   ]
  },
  {
   "cell_type": "code",
   "execution_count": 9,
   "id": "6d818084-e1b9-4bf7-ac20-8df22790103d",
   "metadata": {},
   "outputs": [],
   "source": [
    "df = df.drop(['Date', 'Location', 'WindGustDir', 'WindDir9am', 'WindDir3pm'], axis=1)\n"
   ]
  },
  {
   "cell_type": "code",
   "execution_count": 10,
   "id": "0a642d41-1d22-42a9-b6d8-e4f4af1c93ad",
   "metadata": {},
   "outputs": [],
   "source": [
    "df = df.dropna(axis=0, how='any', subset = ['RainToday','RainTomorrow'])"
   ]
  },
  {
   "cell_type": "code",
   "execution_count": 11,
   "id": "21e04c52",
   "metadata": {},
   "outputs": [
    {
     "data": {
      "text/plain": [
       "MinTemp               0\n",
       "MaxTemp               0\n",
       "Rainfall              0\n",
       "Evaporation           0\n",
       "Sunshine              0\n",
       "WindGustSpeed         0\n",
       "WindSpeed9am          0\n",
       "WindSpeed3pm          0\n",
       "Humidity9am           0\n",
       "Humidity3pm           0\n",
       "Pressure9am           0\n",
       "Pressure3pm           0\n",
       "Cloud9am              0\n",
       "Cloud3pm              0\n",
       "Temp9am               0\n",
       "Temp3pm               0\n",
       "RainToday             0\n",
       "RainTomorrow          0\n",
       "Day                   0\n",
       "Month                 0\n",
       "Year                  0\n",
       "Location_Latitude     0\n",
       "Location_Longitude    0\n",
       "Location_Elevation    0\n",
       "WindGustDir_cos       0\n",
       "WindGustDir_sin       0\n",
       "WindDir9am_cos        0\n",
       "WindDir9am_sin        0\n",
       "WindDir3pm_cos        0\n",
       "WindDir3pm_sin        0\n",
       "dtype: int64"
      ]
     },
     "execution_count": 11,
     "metadata": {},
     "output_type": "execute_result"
    }
   ],
   "source": [
    "df.isna().sum()"
   ]
  },
  {
   "cell_type": "code",
   "execution_count": 12,
   "id": "6d382c1b-3d82-417a-b2fd-199c895ac846",
   "metadata": {},
   "outputs": [],
   "source": [
    "target = df['RainTomorrow']\n",
    "data = df.drop('RainTomorrow', axis=1)"
   ]
  },
  {
   "cell_type": "code",
   "execution_count": 13,
   "id": "ebd3accd-fa29-4fcb-9c9d-acfeb95b10b6",
   "metadata": {},
   "outputs": [],
   "source": [
    "X_train, X_test, y_train, y_test = train_test_split(data, target, test_size = 0.2, random_state=120)\n",
    "\n",
    "scaler = StandardScaler().fit(X_train)\n",
    "\n",
    "X_train = scaler.transform(X_train)\n",
    "X_test = scaler.transform(X_test)\n"
   ]
  },
  {
   "cell_type": "code",
   "execution_count": 14,
   "id": "3b065092-acca-4a4a-8c91-527f9e44f2a5",
   "metadata": {},
   "outputs": [],
   "source": [
    "lr = LogisticRegression()\n",
    "\n",
    "lr.fit(X_train, y_train)\n",
    "\n",
    "y_pred = lr.predict(X_test)"
   ]
  },
  {
   "cell_type": "code",
   "execution_count": 15,
   "id": "3b2d3f8f-5e89-43d3-8699-163f3b3d0acd",
   "metadata": {},
   "outputs": [
    {
     "data": {
      "text/html": [
       "<div>\n",
       "<style scoped>\n",
       "    .dataframe tbody tr th:only-of-type {\n",
       "        vertical-align: middle;\n",
       "    }\n",
       "\n",
       "    .dataframe tbody tr th {\n",
       "        vertical-align: top;\n",
       "    }\n",
       "\n",
       "    .dataframe thead th {\n",
       "        text-align: right;\n",
       "    }\n",
       "</style>\n",
       "<table border=\"1\" class=\"dataframe\">\n",
       "  <thead>\n",
       "    <tr style=\"text-align: right;\">\n",
       "      <th>Prediction</th>\n",
       "      <th>0.0</th>\n",
       "      <th>1.0</th>\n",
       "    </tr>\n",
       "    <tr>\n",
       "      <th>Reality</th>\n",
       "      <th></th>\n",
       "      <th></th>\n",
       "    </tr>\n",
       "  </thead>\n",
       "  <tbody>\n",
       "    <tr>\n",
       "      <th>0.0</th>\n",
       "      <td>20829</td>\n",
       "      <td>1147</td>\n",
       "    </tr>\n",
       "    <tr>\n",
       "      <th>1.0</th>\n",
       "      <td>3088</td>\n",
       "      <td>3094</td>\n",
       "    </tr>\n",
       "  </tbody>\n",
       "</table>\n",
       "</div>"
      ],
      "text/plain": [
       "Prediction    0.0   1.0\n",
       "Reality                \n",
       "0.0         20829  1147\n",
       "1.0          3088  3094"
      ]
     },
     "execution_count": 15,
     "metadata": {},
     "output_type": "execute_result"
    }
   ],
   "source": [
    "pd.crosstab(y_test, y_pred, rownames = ['Reality'], colnames = ['Prediction'])"
   ]
  },
  {
   "cell_type": "code",
   "execution_count": 16,
   "id": "0ba0872d-2f39-4cf7-b1ab-a29be86f429a",
   "metadata": {},
   "outputs": [
    {
     "name": "stdout",
     "output_type": "stream",
     "text": [
      "score_train: 0.8442940983228121\n",
      "score_test: 0.8495986930889978\n"
     ]
    }
   ],
   "source": [
    "print('score_train:', lr.score(X_train, y_train))\n",
    "print('score_test:', lr.score(X_test, y_test))"
   ]
  },
  {
   "cell_type": "code",
   "execution_count": 17,
   "id": "5f605f13-1275-402a-a03c-95a5437dbe05",
   "metadata": {},
   "outputs": [
    {
     "name": "stdout",
     "output_type": "stream",
     "text": [
      "precision: 0.7295449186512615\n",
      "recall: 0.5004852798447105\n",
      "f1: 0.5936870382807254\n"
     ]
    }
   ],
   "source": [
    "from sklearn.metrics import precision_score, recall_score, f1_score\n",
    "\n",
    "print('precision:',precision_score(y_test, y_pred))\n",
    "print('recall:', recall_score(y_test, y_pred))\n",
    "print('f1:', f1_score(y_test, y_pred))\n"
   ]
  },
  {
   "cell_type": "code",
   "execution_count": 20,
   "id": "2a418444-2b25-41f3-9981-e2a0bcd95058",
   "metadata": {},
   "outputs": [
    {
     "name": "stdout",
     "output_type": "stream",
     "text": [
      "              precision    recall  f1-score   support\n",
      "\n",
      "         0.0       0.87      0.95      0.91     21976\n",
      "         1.0       0.73      0.50      0.59      6182\n",
      "\n",
      "    accuracy                           0.85     28158\n",
      "   macro avg       0.80      0.72      0.75     28158\n",
      "weighted avg       0.84      0.85      0.84     28158\n",
      "\n"
     ]
    }
   ],
   "source": [
    "from sklearn.metrics import classification_report\n",
    "print(classification_report(y_test,y_pred))"
   ]
  },
  {
   "cell_type": "code",
   "execution_count": null,
   "id": "702f5e1d-3843-49c2-9beb-8cc0ea300d43",
   "metadata": {},
   "outputs": [],
   "source": []
  }
 ],
 "metadata": {
  "kernelspec": {
   "display_name": "Python 3 (ipykernel)",
   "language": "python",
   "name": "python3"
  },
  "language_info": {
   "codemirror_mode": {
    "name": "ipython",
    "version": 3
   },
   "file_extension": ".py",
   "mimetype": "text/x-python",
   "name": "python",
   "nbconvert_exporter": "python",
   "pygments_lexer": "ipython3",
   "version": "3.10.9"
  }
 },
 "nbformat": 4,
 "nbformat_minor": 5
}
